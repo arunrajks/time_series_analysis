{
 "cells": [
  {
   "cell_type": "code",
   "execution_count": 1,
   "id": "803b8d71",
   "metadata": {
    "_cell_guid": "b1076dfc-b9ad-4769-8c92-a6c4dae69d19",
    "_uuid": "8f2839f25d086af736a60e9eeb907d3b93b6e0e5",
    "execution": {
     "iopub.execute_input": "2023-10-08T17:56:33.334403Z",
     "iopub.status.busy": "2023-10-08T17:56:33.333929Z",
     "iopub.status.idle": "2023-10-08T17:56:33.714473Z",
     "shell.execute_reply": "2023-10-08T17:56:33.712977Z"
    },
    "papermill": {
     "duration": 0.387014,
     "end_time": "2023-10-08T17:56:33.717324",
     "exception": false,
     "start_time": "2023-10-08T17:56:33.330310",
     "status": "completed"
    },
    "tags": []
   },
   "outputs": [
    {
     "name": "stdout",
     "output_type": "stream",
     "text": [
      "/kaggle/input/wind-turbine-energy-kw-generation-data/power.csv\n",
      "/kaggle/input/wind-turbine-energy-kw-generation-data/sample_submission.csv\n",
      "/kaggle/input/wind-turbine-energy-kw-generation-data/features.csv\n",
      "/kaggle/input/wind-turbine-energy-kw-generation-data/feature_units.csv\n"
     ]
    }
   ],
   "source": [
    "import numpy as np # linear algebra\n",
    "import pandas as pd # data processing, CSV file I/O (e.g. pd.read_csv)\n",
    "\n",
    "# Input data files are available in the read-only \"../input/\" directory\n",
    "# For example, running this (by clicking run or pressing Shift+Enter) will list all files under the input directory\n",
    "\n",
    "import os\n",
    "for dirname, _, filenames in os.walk('/kaggle/input'):\n",
    "    for filename in filenames:\n",
    "        print(os.path.join(dirname, filename))\n",
    "\n",
    "# You can write up to 20GB to the current directory (/kaggle/working/) that gets preserved as output when you create a version using \"Save & Run All\" \n",
    "# You can also write temporary files to /kaggle/temp/, but they won't be saved outside of the current session"
   ]
  },
  {
   "cell_type": "code",
   "execution_count": null,
   "id": "aa63cf3b",
   "metadata": {
    "papermill": {
     "duration": 0.004473,
     "end_time": "2023-10-08T17:56:33.723824",
     "exception": false,
     "start_time": "2023-10-08T17:56:33.719351",
     "status": "completed"
    },
    "tags": []
   },
   "outputs": [],
   "source": []
  }
 ],
 "metadata": {
  "kernelspec": {
   "display_name": "Python 3",
   "language": "python",
   "name": "python3"
  },
  "language_info": {
   "codemirror_mode": {
    "name": "ipython",
    "version": 3
   },
   "file_extension": ".py",
   "mimetype": "text/x-python",
   "name": "python",
   "nbconvert_exporter": "python",
   "pygments_lexer": "ipython3",
   "version": "3.10.12"
  },
  "papermill": {
   "default_parameters": {},
   "duration": 4.337842,
   "end_time": "2023-10-08T17:56:34.248232",
   "environment_variables": {},
   "exception": null,
   "input_path": "__notebook__.ipynb",
   "output_path": "__notebook__.ipynb",
   "parameters": {},
   "start_time": "2023-10-08T17:56:29.910390",
   "version": "2.4.0"
  }
 },
 "nbformat": 4,
 "nbformat_minor": 5
}
